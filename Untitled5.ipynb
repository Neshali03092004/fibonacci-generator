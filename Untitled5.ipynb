{
 "cells": [
  {
   "cell_type": "code",
   "execution_count": 2,
   "id": "c4d67b07",
   "metadata": {},
   "outputs": [
    {
     "name": "stdout",
     "output_type": "stream",
     "text": [
      "Fibonacci Project\n",
      "-----------------\n",
      "Choose a mode: \n",
      "1. Iterative\n",
      "2. Generator (up to n)\n",
      "3. Generator (up to value)\n",
      "4. Recursive\n",
      "5. Dynamic Programming\n",
      "Enter choice: 5\n",
      "Enter n: 7\n",
      "The 7th Fibonacci number (dynamic programming): 13\n"
     ]
    }
   ],
   "source": [
    "def fibonacci_iterative(n):\n",
    "    \"\"\"Generate the Fibonacci sequence up to the nth number (iterative).\"\"\"\n",
    "    sequence = []\n",
    "    a, b = 0, 1\n",
    "    for _ in range(n):\n",
    "        sequence.append(a)\n",
    "        a, b = b, a + b\n",
    "    return sequence\n",
    "\n",
    "def fibonacci_generator():\n",
    "    \"\"\"A generator function for generating Fibonacci numbers indefinitely.\"\"\"\n",
    "    a, b = 0, 1\n",
    "    while True:\n",
    "        yield a\n",
    "        a, b = b, a + b\n",
    "\n",
    "def fibonacci_up_to(max_value):\n",
    "    \"\"\"Generate the Fibonacci sequence up to a maximum value.\"\"\"\n",
    "    sequence = []\n",
    "    for current in fibonacci_generator():\n",
    "        if current > max_value:\n",
    "            break\n",
    "        sequence.append(current)\n",
    "    return sequence\n",
    "\n",
    "def fibonacci_recursive(n):\n",
    "    \"\"\"Calculate the nth Fibonacci number (inefficient recursive).\"\"\"\n",
    "    if n <= 1:\n",
    "        return n\n",
    "    else:\n",
    "        return fibonacci_recursive(n-1) + fibonacci_recursive(n-2)\n",
    "\n",
    "def fibonacci_dynamic(n, memo={}):\n",
    "    \"\"\"Calculate the nth Fibonacci number using dynamic programming to avoid redundant calculations.\"\"\"\n",
    "    if n in memo:\n",
    "        return memo[n]\n",
    "    if n <= 1:\n",
    "        return n\n",
    "    else:\n",
    "        memo[n] = fibonacci_dynamic(n-1, memo) + fibonacci_dynamic(n-2, memo)\n",
    "        return memo[n]\n",
    "\n",
    "def main():\n",
    "    print(\"Fibonacci Project\")\n",
    "    print(\"-----------------\")\n",
    "    choice = input(\"Choose a mode: \\n1. Iterative\\n2. Generator (up to n)\\n3. Generator (up to value)\\n4. Recursive\\n5. Dynamic Programming\\nEnter choice: \")\n",
    "    \n",
    "    if choice == \"1\":\n",
    "        n = int(input(\"Enter n: \"))\n",
    "        print(f\"Fibonacci sequence up to {n}: {fibonacci_iterative(n)}\")\n",
    "    elif choice == \"2\":\n",
    "        n = int(input(\"Enter n: \"))\n",
    "        print(f\"Fibonacci sequence up to {n}: {list(fibonacci_generator())[:n]}\")\n",
    "    elif choice == \"3\":\n",
    "        max_value = int(input(\"Enter maximum value: \"))\n",
    "        print(f\"Fibonacci sequence up to value {max_value}: {fibonacci_up_to(max_value)}\")\n",
    "    elif choice == \"4\":\n",
    "        n = int(input(\"Enter n: \"))\n",
    "        print(f\"The {n}th Fibonacci number (recursive): {fibonacci_recursive(n)}\")\n",
    "    elif choice == \"5\":\n",
    "        n = int(input(\"Enter n: \"))\n",
    "        print(f\"The {n}th Fibonacci number (dynamic programming): {fibonacci_dynamic(n)}\")\n",
    "    else:\n",
    "        print(\"Invalid choice. Exiting.\")\n",
    "\n",
    "if __name__ == \"__main__\":\n",
    "    main()\n"
   ]
  },
  {
   "cell_type": "code",
   "execution_count": null,
   "id": "b53def9b",
   "metadata": {},
   "outputs": [],
   "source": []
  }
 ],
 "metadata": {
  "kernelspec": {
   "display_name": "Python 3 (ipykernel)",
   "language": "python",
   "name": "python3"
  },
  "language_info": {
   "codemirror_mode": {
    "name": "ipython",
    "version": 3
   },
   "file_extension": ".py",
   "mimetype": "text/x-python",
   "name": "python",
   "nbconvert_exporter": "python",
   "pygments_lexer": "ipython3",
   "version": "3.11.5"
  }
 },
 "nbformat": 4,
 "nbformat_minor": 5
}
